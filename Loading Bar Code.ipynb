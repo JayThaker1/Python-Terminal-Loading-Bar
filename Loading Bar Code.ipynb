{
 "cells": [
  {
   "cell_type": "markdown",
   "metadata": {},
   "source": [
    "# Python Terminal Loading Bar"
   ]
  },
  {
   "cell_type": "markdown",
   "metadata": {},
   "source": [
    "- use it in any code to see the progress of the code operation\n",
    "- fun and easy to use.\n",
    "- No special modules required."
   ]
  },
  {
   "cell_type": "markdown",
   "metadata": {},
   "source": [
    "### Code Area\n",
    "- do not alter the code.\n",
    "- just run this function in the flow to activate it."
   ]
  },
  {
   "cell_type": "code",
   "execution_count": null,
   "metadata": {},
   "outputs": [],
   "source": [
    "def LoadingBar(iteration, total, prefix='', suffix='', decimals=1, length=100, fill='#'):\n",
    "    percent=('{0:.' + str(decimals)+ 'f}').format(100*(iteration/int(total)))\n",
    "    filledLength = int(length*iteration// total)\n",
    "    bar = fill * filledLength + '-' * (length - filledLength)\n",
    "    print(f'\\r{prefix} {bar} {percent}% {suffix}', end='\\r')\n",
    "    if iteration == total:\n",
    "        print()       "
   ]
  },
  {
   "cell_type": "markdown",
   "metadata": {},
   "source": [
    "### Calling the LaodingBar Defination\n",
    "- do not alter this code.\n",
    "- do not run this code.\n",
    "- this is given for reference only"
   ]
  },
  {
   "cell_type": "code",
   "execution_count": null,
   "metadata": {},
   "outputs": [],
   "source": [
    "# LoadingBar(0, l, prefix= 'Installation Progress:', suffix= 'Complete', length = l)"
   ]
  },
  {
   "cell_type": "markdown",
   "metadata": {},
   "source": [
    "### Enter your Code Here\n",
    "- determine the length factor by adding checkpoints after every major code upto the end of the program.\n",
    "- the last line shows how to replace the values using this demo program."
   ]
  },
  {
   "cell_type": "code",
   "execution_count": null,
   "metadata": {},
   "outputs": [],
   "source": [
    "from time import sleep\n",
    "items = list(range(0,50))\n",
    "l = len(items)\n",
    "for i,items in enumerate(items):\n",
    "    sleep(0.1)\n",
    "    LoadingBar(i+1, l, prefix= 'Installation Progress:', suffix= 'Complete', length = l)"
   ]
  }
 ],
 "metadata": {
  "kernelspec": {
   "display_name": "Python 3",
   "language": "python",
   "name": "python3"
  },
  "language_info": {
   "codemirror_mode": {
    "name": "ipython",
    "version": 3
   },
   "file_extension": ".py",
   "mimetype": "text/x-python",
   "name": "python",
   "nbconvert_exporter": "python",
   "pygments_lexer": "ipython3",
   "version": "3.8.5"
  }
 },
 "nbformat": 4,
 "nbformat_minor": 4
}
